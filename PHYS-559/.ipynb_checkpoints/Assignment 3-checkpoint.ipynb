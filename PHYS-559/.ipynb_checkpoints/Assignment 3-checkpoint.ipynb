{
 "cells": [
  {
   "cell_type": "markdown",
   "metadata": {},
   "source": [
    "# Assignment 3\n",
    "#### Niklas Brake 260602499\n",
    "## 1. Huffman Coding\n",
    "\n",
    "\n",
    " "
   ]
  },
  {
   "cell_type": "markdown",
   "metadata": {},
   "source": [
    "### (a) \n",
    "\n",
    "$A = \\{c,g,i,l,m\\}$\n",
    "\n",
    "$P(A) = \\{0.06, 0.15, 0.3, 0.2, 0.29\\}$\n",
    "\n",
    "$I = -\\sum_{a\\in A} P(a) \\log_2(P(a))$"
   ]
  },
  {
   "cell_type": "code",
   "execution_count": 169,
   "metadata": {},
   "outputs": [
    {
     "name": "stdout",
     "output_type": "stream",
     "text": [
      "2.15745756414  bits\n"
     ]
    }
   ],
   "source": [
    "import numpy as np\n",
    "P = np.array([0.06, 0.15, 0.3, 0.2, 0.29]).T\n",
    "I = -np.matmul(P.T,np.log(P))/np.log(2)\n",
    "print(I, \" bits\")"
   ]
  },
  {
   "cell_type": "markdown",
   "metadata": {},
   "source": [
    "### (b)\n",
    "$C(A) = [010,011,11,00,10]$\n",
    "\n",
    "$L(C(A)) = [3,3,2,2,2]$\n",
    "\n",
    "$\\mathbb{E}_P(L) = \\sum_{a\\in A} L(C(a)) P(a)$\n"
   ]
  },
  {
   "cell_type": "code",
   "execution_count": 128,
   "metadata": {},
   "outputs": [
    {
     "name": "stdout",
     "output_type": "stream",
     "text": [
      "2.21\n"
     ]
    }
   ],
   "source": [
    "L = np.array([3,3,2,2,2])\n",
    "Avg_L = np.matmul(L,P)\n",
    "print(Avg_L)"
   ]
  },
  {
   "cell_type": "markdown",
   "metadata": {},
   "source": [
    "With fewer bits to transfer the same information, your rate of information transfer can be higher."
   ]
  },
  {
   "cell_type": "markdown",
   "metadata": {},
   "source": [
    "### (c)"
   ]
  },
  {
   "cell_type": "code",
   "execution_count": null,
   "metadata": {
    "collapsed": true
   },
   "outputs": [],
   "source": [
    "from IPython.display import Image"
   ]
  },
  {
   "cell_type": "markdown",
   "metadata": {},
   "source": [
    "One can observe that the Huffan coding algorithm is equivalent to building a binary tree by iteratively linking the two nodes with the lowest probabilies. One therefore gets the following binary tree:\n",
    "![title](HuffmanTreeImage.png)\n",
    "\n",
    "The encoding is read as the binary location of the leaves, that is $\\{c:010,g:011,i:11,l:00,m:10\\}$"
   ]
  },
  {
   "cell_type": "markdown",
   "metadata": {},
   "source": [
    "### (d)\n"
   ]
  },
  {
   "cell_type": "code",
   "execution_count": 195,
   "metadata": {},
   "outputs": [],
   "source": [
    "import copy\n",
    "\n",
    "class Node:\n",
    "    # Each node has the following properties:\n",
    "    #    left     (left child)\n",
    "    #    right    (right child)\n",
    "    #    data     (this will be a string)\n",
    "    #    prob     (total probablility of all subsets of data)\n",
    "    def __init__(self, data, prob):\n",
    "        self.parent = None\n",
    "        self.left = None\n",
    "        self.right = None\n",
    "        self.data = data\n",
    "        self.prob = prob\n",
    "    def setLeftChild(self,child):\n",
    "        self.left = child\n",
    "    def setRightChild(self,child):\n",
    "        self.right = child\n",
    "    def getChildren(self,lr):\n",
    "        if(lr == 0):\n",
    "            return self.left\n",
    "        elif(lr == 1):\n",
    "            return self.right\n",
    "        else:\n",
    "            return [self.left,self.right]\n",
    "\n",
    "def makeHuffmanTree(Alphabet):\n",
    "    Probs = copy.deepcopy(Alphabet)\n",
    "    # Create nodes for each letter\n",
    "    preHuffmanTree = dict()\n",
    "    for k in Probs.keys():\n",
    "        preHuffmanTree[k] = Node(k,Probs[k])\n",
    "    while len(Probs) > 1:\n",
    "        # Sort Probs by probabilities\n",
    "        sortedAlph = [x for _,x in sorted(zip(list(Probs.values()),list(Probs.keys())))]\n",
    "        # Combine the keys of the lowest two probability elements into a new key\n",
    "        newSet = sortedAlph[0] + sortedAlph[1]\n",
    "        # The new element has the probability of the sum of its constituents\n",
    "        newProb = Probs[sortedAlph[0]] + Probs[sortedAlph[1]]\n",
    "        # Remove lowest two probability elements from list\n",
    "        del Probs[sortedAlph[0]]\n",
    "        del Probs[sortedAlph[1]]\n",
    "        # Add consolidated element\n",
    "        Probs[newSet] = newProb\n",
    "        # Create new node for consolidated element\n",
    "        preHuffmanTree[newSet] = Node(newSet,newProb)\n",
    "        # Make it the parent of its constituents \n",
    "        preHuffmanTree[newSet].setLeftChild(preHuffmanTree[sortedAlph[0]])\n",
    "        preHuffmanTree[newSet].setRightChild(preHuffmanTree[sortedAlph[1]])\n",
    "    # HuffmanTree is pointer to the root node\n",
    "    finalAlph = list(Probs.keys())[0]\n",
    "    HuffmanTree = preHuffmanTree[finalAlph]\n",
    "    return HuffmanTree\n",
    "\n",
    "def getCodeWords(node,codeDict,code):\n",
    "    C1 = node.getChildren(0)\n",
    "    C2 = node.getChildren(1)\n",
    "    # If left child is a leaf, update codeDict with path to leaf\n",
    "    if(C1.getChildren(0) == None and C1.getChildren(1) == None):\n",
    "        codeDict[C1.data] = code + '0'\n",
    "    # Else recurse down left child\n",
    "    else:\n",
    "        codeDict = getCodeWords(C1,codeDict,code+'0')\n",
    "    # If right child is a leaf, update codeDict with path to leaf\n",
    "    if(C2.getChildren(0) == None and C2.getChildren(1) == None):\n",
    "        codeDict[C2.data] = code + '1'\n",
    "    # Else recurse down right child\n",
    "    else:\n",
    "        codeDict = getCodeWords(C2,codeDict,code+'1')\n",
    "    return codeDict"
   ]
  },
  {
   "cell_type": "code",
   "execution_count": 196,
   "metadata": {},
   "outputs": [
    {
     "name": "stdout",
     "output_type": "stream",
     "text": [
      "c :  010\n",
      "g :  011\n",
      "i :  11\n",
      "l :  00\n",
      "m :  10\n"
     ]
    }
   ],
   "source": [
    "smallAlphabet = {\"c\":0.06,\"g\":0.15,\"i\":0.3,\"l\":0.2,\"m\":0.29}\n",
    "# Get Huffman tree\n",
    "HuffmanTree = makeHuffmanTree(smallAlphabet)\n",
    "# Get code\n",
    "codeDict = getCodeWords(HuffmanTree,dict(),'')\n",
    "# Print code\n",
    "for key in sorted(list(codeDict.keys())):\n",
    "    print(key, \": \", codeDict[key])"
   ]
  },
  {
   "cell_type": "code",
   "execution_count": 197,
   "metadata": {},
   "outputs": [
    {
     "name": "stdout",
     "output_type": "stream",
     "text": [
      "a :  1110\n",
      "b :  110000\n",
      "c :  01001\n",
      "d :  11111\n",
      "e :  100\n",
      "f :  00101\n",
      "g :  110011\n",
      "h :  0110\n",
      "i :  1011\n",
      "j :  001001011\n",
      "k :  0010011\n",
      "l :  11110\n",
      "m :  00111\n",
      "n :  1010\n",
      "o :  1101\n",
      "p :  110001\n",
      "q :  001001001\n",
      "r :  0101\n",
      "s :  0111\n",
      "t :  000\n",
      "u :  01000\n",
      "v :  001000\n",
      "w :  00110\n",
      "x :  001001010\n",
      "y :  110010\n",
      "z :  001001000\n"
     ]
    }
   ],
   "source": [
    "EnglishAlphabet = {\"a\":8.167/100, \"b\":1.492/100, \"c\":2.782/100, \"d\":4.253/100, \n",
    "\"e\":12.702/100, \"f\":2.228/100, \"g\":2.015/100, \"h\":6.094/100, \"i\":6.966/100, \n",
    "\"j\":0.153/100, \"k\":0.772/100, \"l\":4.025/100, \"m\":2.406/100, \"n\":6.749/100, \n",
    "\"o\":7.507/100, \"p\":1.929/100, \"q\":0.095/100, \"r\":5.987/100, \n",
    "\"s\":6.327/100, \"t\":9.056/100, \"u\":2.758/100, \"v\":0.978/100, \n",
    "\"w\":2.360/100, \"x\":0.150/100, \"y\":1.974/100, \"z\":0.074/100}\n",
    "# Get Huffman tree\n",
    "EnglishHuffmanTree = makeHuffmanTree(EnglishAlphabet)\n",
    "# Get code\n",
    "EnglishcodeDict = getCodeWords(EnglishHuffmanTree,dict(),'')\n",
    "# Print code\n",
    "for key in sorted(list(EnglishcodeDict.keys())):\n",
    "    print(key, \": \", EnglishcodeDict[key])"
   ]
  },
  {
   "cell_type": "markdown",
   "metadata": {},
   "source": [
    "### (e)"
   ]
  },
  {
   "cell_type": "code",
   "execution_count": 199,
   "metadata": {},
   "outputs": [
    {
     "name": "stdout",
     "output_type": "stream",
     "text": [
      "Information/letter:  4.17575979106  bits\n",
      "Average bits/letter:  5.6705  bits\n"
     ]
    }
   ],
   "source": [
    "P = np.array(list(EnglishAlphabet.values()))\n",
    "\n",
    "I = -np.matmul(P.T,np.log(P))/np.log(2)\n",
    "print(\"Information/letter: \", I, \" bits\")\n",
    "\n",
    "Code = list(EnglishcodeDict.values())\n",
    "L = np.array([len(x) for x in Code])\n",
    "\n",
    "Avg_bits = np.matmul(L,P)\n",
    "print(\"Average bits/letter: \", Avg_bits, \" bits\")\n"
   ]
  },
  {
   "cell_type": "markdown",
   "metadata": {},
   "source": [
    "ASCII is 7-bit binary encoding. Therefore, this code has an average of 1.33 fewer bits per letter."
   ]
  },
  {
   "cell_type": "markdown",
   "metadata": {},
   "source": [
    "### (f)"
   ]
  },
  {
   "cell_type": "code",
   "execution_count": 203,
   "metadata": {},
   "outputs": [
    {
     "name": "stdout",
     "output_type": "stream",
     "text": [
      "eof\n"
     ]
    }
   ],
   "source": [
    "BinaryPhrase = \"100110100101\"\n",
    "# Turn string into integer list\n",
    "BinaryPhrase = [int(x) for x in list(BinaryPhrase)]\n",
    "DeCodedPhrase = []\n",
    "while len(BinaryPhrase) > 0:\n",
    "    # Move left or right depending on BinaryPhrase\n",
    "    L = EnglishHuffmanTree.getChildren(BinaryPhrase[0])\n",
    "    # Remove first element of BinaryPhrase\n",
    "    BinaryPhrase = BinaryPhrase[1:]\n",
    "    # Repeat until we reach a leaf\n",
    "    while L.getChildren(0) != None or L.getChildren(1) != None:\n",
    "        L = L.getChildren(BinaryPhrase[0])\n",
    "        BinaryPhrase = BinaryPhrase[1:]\n",
    "    # Append leaf to the decoded phrase\n",
    "    DeCodedPhrase.append(L.data)\n",
    "print(''.join(DeCodedPhrase))"
   ]
  },
  {
   "cell_type": "code",
   "execution_count": null,
   "metadata": {
    "collapsed": true
   },
   "outputs": [],
   "source": []
  }
 ],
 "metadata": {
  "kernelspec": {
   "display_name": "Python 3",
   "language": "python",
   "name": "python3"
  },
  "language_info": {
   "codemirror_mode": {
    "name": "ipython",
    "version": 3
   },
   "file_extension": ".py",
   "mimetype": "text/x-python",
   "name": "python",
   "nbconvert_exporter": "python",
   "pygments_lexer": "ipython3",
   "version": "3.6.3"
  }
 },
 "nbformat": 4,
 "nbformat_minor": 2
}

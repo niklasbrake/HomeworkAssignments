{
 "cells": [
  {
   "cell_type": "markdown",
   "metadata": {},
   "source": [
    "# Assignment 1\n",
    "## Niklas Brake"
   ]
  },
  {
   "cell_type": "code",
   "execution_count": 135,
   "metadata": {
    "collapsed": true
   },
   "outputs": [],
   "source": [
    "from IPython.display import Image"
   ]
  },
  {
   "cell_type": "markdown",
   "metadata": {},
   "source": [
    "# Question 1"
   ]
  },
  {
   "cell_type": "markdown",
   "metadata": {},
   "source": [
    "## (a) \n",
    "\n",
    "Given $\\dot{X} = \\frac{\\lambda^2}{\\delta(\\varepsilon + X)} - \\delta X$, we have $\\ddot{X} = -\\frac{\\delta \\lambda^2}{(\\delta(\\varepsilon + X))^2} - \\delta$. Therefore, X decreases its own change over time. \n",
    " \n",
    "![title](Sketch.png)"
   ]
  },
  {
   "cell_type": "markdown",
   "metadata": {},
   "source": [
    "## (b)\n",
    "\n",
    "Consider the differential equation\n",
    "\n",
    "$ \\dot{X} + \\delta X = \\lambda $\n",
    "\n",
    "With an application of the chain rule, we see that this is equivalent to\n",
    "\n",
    "$ e^{- \\delta t} \\frac{d}{dt} \\left ( X e^{\\delta t} \\right )= \\lambda $\n",
    "\n",
    "$ \\frac{d}{dt} \\left ( X e^{\\delta t} \\right ) = \\lambda e^{\\delta t} $\n",
    "\n",
    "Then by integrating both sides we get\n",
    "\n",
    "$ X e^{\\delta t} = \\frac{\\lambda}{\\delta} e^{\\delta t} + X_0 $\n",
    "\n",
    "$ X = \\frac{\\lambda}{\\delta} + X_0 e^{- \\delta t} $\n",
    "\n",
    "Given our intial condition $ X(0) = 0 $ we have that $ X_0 = - \\frac{\\lambda}{\\delta}$. Thus, our solution is $ X(t) = \\frac{\\lambda}{\\delta} \\left ( 1 - e^{- \\delta t} \\right ) $. As $t \\rightarrow \\infty$, $X(t) \\to \\frac{\\lambda}{\\delta}$. Now, given that \n",
    "\n",
    "$\\frac{X_\\infty}{2} = \\frac{\\lambda}{2\\delta} = \\frac{\\lambda}{\\delta} \\left ( 1 - e^{- \\delta t_0} \\right ) $\n",
    "\n",
    "We have that $t_0 = \\frac{\\log 2}{\\delta}$"
   ]
  },
  {
   "cell_type": "markdown",
   "metadata": {},
   "source": [
    "## (c)\n",
    "\n",
    "Since $X(0) = 0$ and $\\varepsilon << 1$, for $t$ small, $\\frac{\\lambda^2}{\\delta(\\varepsilon + X)} >> \\delta X $, so $\\dot{X} > 0$. Therefore, after a short time, $X >> \\varepsilon$, so $(\\epsilon + X) \\approx X$.\n",
    "\n",
    "Consider the change of variable $ X^2 \\mapsto Y $. Then,\n",
    "\n",
    "$ \\dot{Y} = 2X\\dot{X} = 2\\frac{\\lambda^2}{\\delta} - 2\\delta X^2 = 2\\frac{\\lambda^2}{\\delta} - 2\\delta Y $\n",
    "\n",
    "Since this is the same form as our equation in part (b), we get the same solution, but with the appropriate change of constants, and obtain the expression\n",
    "\n",
    "$Y = \\left ( \\frac{\\lambda}{\\delta} \\right )  ^2 \\left (1 - e^{-2\\delta t} \\right) $\n",
    "\n",
    "As $t \\rightarrow \\infty$, $Y \\rightarrow \\left ( \\frac{\\lambda}{\\delta} \\right )  ^2$, or $ X \\rightarrow \\frac{\\lambda}{\\delta} $. $X(t) = X_\\infty / 2$ when $Y(t) = Y_\\infty / 4$, so we have,\n",
    "\n",
    "$\\frac{X_\\infty}{2} = \\frac{Y_\\infty}{4} = \\frac{1}{4} \\left ( \\frac{\\lambda}{\\delta} \\right )  ^2 = \\left ( \\frac{\\lambda}{\\delta} \\right )  ^2 \\left (1 - e^{-2\\delta t_1} \\right) $\n",
    "\n",
    "we have that $t_1 = \\frac{\\log 4/3}{2 \\delta}$."
   ]
  },
  {
   "cell_type": "markdown",
   "metadata": {},
   "source": [
    "## (d)\n",
    "\n",
    "With negative feedback, the equation relaxes to steady steady faster than when there is no negative feedback; the system with negative feedback reaches half of its asymptotic value twice as fast. In the context of cellular dynamics, negative feedback gives the cell tighter temporal control over its state. However, additional regulation can have drawbacks, such as higher metabolic load or added system complexity which may increase the likelihood of some error occuring."
   ]
  },
  {
   "cell_type": "markdown",
   "metadata": {},
   "source": [
    "# Question 2"
   ]
  },
  {
   "cell_type": "code",
   "execution_count": 136,
   "metadata": {
    "collapsed": true
   },
   "outputs": [],
   "source": [
    "import numpy as np\n",
    "import matplotlib.pyplot as plt\n",
    "\n",
    "def difEQ1(X,delta,eps,L):\n",
    "    return L**2/(delta*(eps+X)) - delta*X\n",
    "\n",
    "def difEQ2(X,delta,eps,L):\n",
    "    return L - delta*X\n",
    "\n",
    "def eulerIntegrate(fun,T1,T2,dT,X0):\n",
    "    T = np.linspace(T1,T2-dT,int((T2-T1)/dT)-1)\n",
    "    X = np.zeros([int((T2-T1)/dT)])\n",
    "    X[0] = X0\n",
    "    for idx,t in enumerate(T):\n",
    "        X[idx+1] = X[idx] + dT*fun(X[idx])\n",
    "    T = np.linspace(T1,T2,int((T2-T1)/dT))\n",
    "    return X,T\n",
    "    \n",
    "    "
   ]
  },
  {
   "cell_type": "code",
   "execution_count": 137,
   "metadata": {},
   "outputs": [
    {
     "data": {
      "image/png": "[encoded data removed]",
      "text/plain": [
       "<matplotlib.figure.Figure at 0x1ff44a12978>"
      ]
     },
     "metadata": {},
     "output_type": "display_data"
    }
   ],
   "source": [
    "delta = 1\n",
    "L = 1\n",
    "eps = 0.1\n",
    "T0 = 0\n",
    "T1 = 10\n",
    "dT = 0.01\n",
    "\n",
    "fun = lambda x: difEQ1(x,delta,eps,L)\n",
    "X,T = eulerIntegrate(fun,T0,T1,dT,0)\n",
    "\n",
    "t0 = np.log(4/3)/(2*delta)\n",
    "fig = plt.figure(figsize=[15,5])\n",
    "ax1 = plt.subplot(121)\n",
    "ax1.plot(T,X)\n",
    "ax1.plot([t0,t0],[X[0],X[-1]])\n",
    "ax1.plot([T0,T1],[X[-1]/2,X[-1]/2])\n",
    "ax1.set_title('Negative Feedback (Equation 1)')\n",
    "ax1.legend(['$X(t)$','$t_{1/2}$','$X_{\\infty}/2$'])\n",
    "ax1.set_xlabel('T')\n",
    "ax1.set_ylabel('X')\n",
    "\n",
    "\n",
    "fun2 = lambda x: difEQ2(x,delta,eps,L)\n",
    "X,T = eulerIntegrate(fun2,T0,T1,dT,0)\n",
    "\n",
    "t1 = np.log(2)/(delta)\n",
    "ax2 = plt.subplot(122)\n",
    "ax2.plot(T,X)\n",
    "ax2.plot([t1,t1],[X[0],X[-1]])\n",
    "ax2.plot([T0,T1],[X[-1]/2,X[-1]/2])\n",
    "ax2.legend(['$X(t)$','$t_{1/2}$','$X_{\\infty}/2$'])\n",
    "ax2.set_title('No Feedback (Equation 2)')\n",
    "ax2.set_xlabel('T')\n",
    "ax2.set_ylabel('X')\n",
    "\n",
    "plt.show()"
   ]
  }
 ],
 "metadata": {
  "kernelspec": {
   "display_name": "Python 3",
   "language": "python",
   "name": "python3"
  },
  "language_info": {
   "codemirror_mode": {
    "name": "ipython",
    "version": 3
   },
   "file_extension": ".py",
   "mimetype": "text/x-python",
   "name": "python",
   "nbconvert_exporter": "python",
   "pygments_lexer": "ipython3",
   "version": "3.6.3"
  }
 },
 "nbformat": 4,
 "nbformat_minor": 2
}
